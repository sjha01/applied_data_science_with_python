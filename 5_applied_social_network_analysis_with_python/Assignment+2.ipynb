{
 "cells": [
  {
   "cell_type": "markdown",
   "metadata": {},
   "source": [
    "---\n",
    "\n",
    "_You are currently looking at **version 1.2** of this notebook. To download notebooks and datafiles, as well as get help on Jupyter notebooks in the Coursera platform, visit the [Jupyter Notebook FAQ](https://www.coursera.org/learn/python-social-network-analysis/resources/yPcBs) course resource._\n",
    "\n",
    "---"
   ]
  },
  {
   "cell_type": "markdown",
   "metadata": {},
   "source": [
    "# Assignment 2 - Network Connectivity\n",
    "\n",
    "In this assignment you will go through the process of importing and analyzing an internal email communication network between employees of a mid-sized manufacturing company. \n",
    "Each node represents an employee and each directed edge between two nodes represents an individual email. The left node represents the sender and the right node represents the recipient."
   ]
  },
  {
   "cell_type": "code",
   "execution_count": 1,
   "metadata": {
    "collapsed": true
   },
   "outputs": [],
   "source": [
    "import networkx as nx\n",
    "\n",
    "# This line must be commented out when submitting to the autograder\n",
    "#!head email_network.txt"
   ]
  },
  {
   "cell_type": "markdown",
   "metadata": {},
   "source": [
    "### Question 1\n",
    "\n",
    "Using networkx, load up the directed multigraph from `email_network.txt`. Make sure the node names are strings.\n",
    "\n",
    "*This function should return a directed multigraph networkx graph.*"
   ]
  },
  {
   "cell_type": "code",
   "execution_count": 8,
   "metadata": {
    "collapsed": true
   },
   "outputs": [],
   "source": [
    "def answer_one():\n",
    "    \n",
    "    # Your Code Here\n",
    "    \n",
    "    g = nx.read_edgelist('email_network.txt',\n",
    "                         create_using=nx.MultiDiGraph(),\n",
    "                         nodetype=str,\n",
    "                         data=[('time', int)]\n",
    "                        )\n",
    "    \n",
    "    return g # Your Answer Here"
   ]
  },
  {
   "cell_type": "markdown",
   "metadata": {},
   "source": [
    "### Question 2\n",
    "\n",
    "How many employees and emails are represented in the graph from Question 1?\n",
    "\n",
    "*This function should return a tuple (#employees, #emails).*"
   ]
  },
  {
   "cell_type": "code",
   "execution_count": 12,
   "metadata": {
    "collapsed": true
   },
   "outputs": [],
   "source": [
    "def answer_two():\n",
    "        \n",
    "    # Your Code Here\n",
    "    \n",
    "    g = answer_one()\n",
    "    employees, emails = g.number_of_nodes(), g.number_of_edges()\n",
    "    \n",
    "    return employees, emails # Your Answer Here"
   ]
  },
  {
   "cell_type": "markdown",
   "metadata": {},
   "source": [
    "### Question 3\n",
    "\n",
    "* Part 1. Assume that information in this company can only be exchanged through email.\n",
    "\n",
    "    When an employee sends an email to another employee, a communication channel has been created, allowing the sender to provide information to the receiver, but not vice versa. \n",
    "\n",
    "    Based on the emails sent in the data, is it possible for information to go from every employee to every other employee?\n",
    "\n",
    "\n",
    "* Part 2. Now assume that a communication channel established by an email allows information to be exchanged both ways. \n",
    "\n",
    "    Based on the emails sent in the data, is it possible for information to go from every employee to every other employee?\n",
    "\n",
    "\n",
    "*This function should return a tuple of bools (part1, part2).*"
   ]
  },
  {
   "cell_type": "code",
   "execution_count": 14,
   "metadata": {
    "collapsed": true
   },
   "outputs": [],
   "source": [
    "def answer_three():\n",
    "        \n",
    "    # Your Code Here\n",
    "    \n",
    "    g = answer_one()\n",
    "    \n",
    "    strongly, weakly = nx.is_strongly_connected(g), nx.is_weakly_connected(g)\n",
    "    \n",
    "    return strongly, weakly # Your Answer Here"
   ]
  },
  {
   "cell_type": "markdown",
   "metadata": {},
   "source": [
    "### Question 4\n",
    "\n",
    "How many nodes are in the largest (in terms of nodes) weakly connected component?\n",
    "\n",
    "*This function should return an int.*"
   ]
  },
  {
   "cell_type": "code",
   "execution_count": 43,
   "metadata": {
    "collapsed": true,
    "scrolled": true
   },
   "outputs": [],
   "source": [
    "def answer_four():\n",
    "        \n",
    "    # Your Code Here\n",
    "    \n",
    "    g = answer_one()\n",
    "    weakly = nx.weakly_connected_components(g)\n",
    "    weakly = [len(item) for item in sorted(weakly)]\n",
    "    n_weakly = max(weakly)\n",
    "    \n",
    "    return n_weakly"
   ]
  },
  {
   "cell_type": "markdown",
   "metadata": {},
   "source": [
    "### Question 5\n",
    "\n",
    "How many nodes are in the largest (in terms of nodes) strongly connected component?\n",
    "\n",
    "*This function should return an int*"
   ]
  },
  {
   "cell_type": "code",
   "execution_count": 41,
   "metadata": {
    "collapsed": true
   },
   "outputs": [],
   "source": [
    "def answer_five():\n",
    "        \n",
    "    # Your Code Here\n",
    "    \n",
    "    g = answer_one()\n",
    "    strongly = nx.strongly_connected_components(g)\n",
    "    strongly = [len(item) for item in sorted(strongly)]\n",
    "    n_strongly = max(strongly)\n",
    "    \n",
    "    return n_strongly"
   ]
  },
  {
   "cell_type": "markdown",
   "metadata": {},
   "source": [
    "### Question 6\n",
    "\n",
    "Using the NetworkX function strongly_connected_component_subgraphs, find the subgraph of nodes in a largest strongly connected component. \n",
    "Call this graph G_sc.\n",
    "\n",
    "*This function should return a networkx MultiDiGraph named G_sc.*"
   ]
  },
  {
   "cell_type": "code",
   "execution_count": 73,
   "metadata": {
    "collapsed": true
   },
   "outputs": [],
   "source": [
    "def answer_six():\n",
    "        \n",
    "    # Your Code Here\n",
    "    \n",
    "    g = answer_one()\n",
    "    strongly = nx.strongly_connected_component_subgraphs(g)\n",
    "    G_sc = max(strongly, key=len)\n",
    "    \n",
    "    return G_sc # Your Answer Here"
   ]
  },
  {
   "cell_type": "markdown",
   "metadata": {},
   "source": [
    "### Question 7\n",
    "\n",
    "What is the average distance between nodes in G_sc?\n",
    "\n",
    "*This function should return a float.*"
   ]
  },
  {
   "cell_type": "code",
   "execution_count": 75,
   "metadata": {
    "collapsed": true
   },
   "outputs": [],
   "source": [
    "def answer_seven():\n",
    "        \n",
    "    # Your Code Here\n",
    "    \n",
    "    g_sc = answer_six()\n",
    "    \n",
    "    g_sc_avg = nx.average_shortest_path_length(g_sc)\n",
    "    \n",
    "    return g_sc_avg # Your Answer Here"
   ]
  },
  {
   "cell_type": "markdown",
   "metadata": {},
   "source": [
    "### Question 8\n",
    "\n",
    "What is the largest possible distance between two employees in G_sc?\n",
    "\n",
    "*This function should return an int.*"
   ]
  },
  {
   "cell_type": "code",
   "execution_count": 77,
   "metadata": {
    "collapsed": true
   },
   "outputs": [],
   "source": [
    "def answer_eight():\n",
    "        \n",
    "    # Your Code Here\n",
    "    \n",
    "    g_sc = answer_six()\n",
    "    \n",
    "    g_sc_diameter = nx.diameter(g_sc)\n",
    "    \n",
    "    return g_sc_diameter # Your Answer Here"
   ]
  },
  {
   "cell_type": "markdown",
   "metadata": {},
   "source": [
    "### Question 9\n",
    "\n",
    "What is the set of nodes in G_sc with eccentricity equal to the diameter?\n",
    "\n",
    "*This function should return a set of the node(s).*"
   ]
  },
  {
   "cell_type": "code",
   "execution_count": 99,
   "metadata": {
    "collapsed": true
   },
   "outputs": [],
   "source": [
    "def answer_nine():\n",
    "       \n",
    "    # Your Code Here\n",
    "    \n",
    "    g_sc = answer_six()\n",
    "    \n",
    "    g_sc_diameter     = nx.diameter(g_sc)\n",
    "    g_sc_eccentricity = nx.eccentricity(g_sc)\n",
    "    \n",
    "    nodes_eccecentricity_diameter = [key for (key, val) in g_sc_eccentricity.items() if val == g_sc_diameter]\n",
    "    nodes_eccecentricity_diameter = set(nodes_eccecentricity_diameter)\n",
    "    \n",
    "    return nodes_eccecentricity_diameter # Your Answer Here"
   ]
  },
  {
   "cell_type": "markdown",
   "metadata": {},
   "source": [
    "### Question 10\n",
    "\n",
    "What is the set of node(s) in G_sc with eccentricity equal to the radius?\n",
    "\n",
    "*This function should return a set of the node(s).*"
   ]
  },
  {
   "cell_type": "code",
   "execution_count": 102,
   "metadata": {
    "collapsed": true
   },
   "outputs": [],
   "source": [
    "def answer_ten():\n",
    "        \n",
    "    # Your Code Here\n",
    "    \n",
    "    g_sc = answer_six()\n",
    "    \n",
    "    g_sc_radius     = nx.radius(g_sc)\n",
    "    g_sc_eccentricity = nx.eccentricity(g_sc)\n",
    "    \n",
    "    nodes_eccecentricity_radius = [key for (key, val) in g_sc_eccentricity.items() if val == g_sc_radius]\n",
    "    nodes_eccecentricity_radius = set(nodes_eccecentricity_radius)\n",
    "    \n",
    "    return nodes_eccecentricity_radius # Your Answer Here"
   ]
  },
  {
   "cell_type": "markdown",
   "metadata": {},
   "source": [
    "### Question 11\n",
    "\n",
    "Which node in G_sc is connected to the most other nodes by a shortest path of length equal to the diameter of G_sc?\n",
    "\n",
    "How many nodes are connected to this node?\n",
    "\n",
    "\n",
    "*This function should return a tuple (name of node, number of satisfied connected nodes).*"
   ]
  },
  {
   "cell_type": "code",
   "execution_count": 150,
   "metadata": {
    "collapsed": true
   },
   "outputs": [],
   "source": [
    "def answer_eleven():\n",
    "        \n",
    "    # Your Code Here\n",
    "    \n",
    "    g_sc = answer_six()\n",
    "    \n",
    "    g_sc_diameter = nx.diameter(g_sc)\n",
    "    \n",
    "    list_shortest = []\n",
    "    list_shortest_dir_1 = []\n",
    "    list_shortest_dir_2 = []\n",
    "    \n",
    "    for i in g_sc:\n",
    "        for j in g_sc:\n",
    "            if (i != j) and (nx.shortest_path_length(g_sc, i, j) == g_sc_diameter):\n",
    "                list_shortest = list_shortest + [i, j]\n",
    "                if (i < j):\n",
    "                    list_shortest_dir_1 = list_shortest_dir_1 + [(i, j)]\n",
    "                elif (i > j):\n",
    "                    list_shortest_dir_2 = list_shortest_dir_2 + [(j, i)]\n",
    "    \n",
    "    most_common = max(set(list_shortest), key=list_shortest.count)\n",
    "    occurrences = list_shortest.count(most_common)\n",
    "    occurrences = occurrences - len([item for item in list_shortest_dir_1 if item in list_shortest_dir_2]) # avoid double-counting\n",
    "    \n",
    "    return most_common, occurrences # Your Answer Here"
   ]
  },
  {
   "cell_type": "markdown",
   "metadata": {},
   "source": [
    "### Question 12\n",
    "\n",
    "Suppose you want to prevent communication from flowing to the node that you found in the previous question from any node in the center of G_sc, what is the smallest number of nodes you would need to remove from the graph (you're not allowed to remove the node from the previous question or the center nodes)? \n",
    "\n",
    "*This function should return an integer.*"
   ]
  },
  {
   "cell_type": "code",
   "execution_count": 166,
   "metadata": {
    "collapsed": true
   },
   "outputs": [],
   "source": [
    "def answer_twelve():\n",
    "        \n",
    "    # Your Code Here\n",
    "    \n",
    "    g_sc = answer_six()\n",
    "    node_source = answer_eleven()[0]\n",
    "    \n",
    "    g_sc_center = nx.center(g_sc)\n",
    "    nodes_cut = set([])\n",
    "    for node_target in g_sc_center:\n",
    "        if node_target != node_source:\n",
    "            nodes_cut_target = nx.minimum_node_cut(g_sc, s=node_target, t=node_source)\n",
    "        \n",
    "        nodes_cut = nodes_cut.union(nodes_cut_target)\n",
    "        nodes_cut_num = len(nodes_cut)\n",
    "        \n",
    "    return nodes_cut_num # Your Answer Here"
   ]
  },
  {
   "cell_type": "markdown",
   "metadata": {},
   "source": [
    "### Question 13\n",
    "\n",
    "Construct an undirected graph G_un using G_sc (you can ignore the attributes).\n",
    "\n",
    "*This function should return a networkx Graph.*"
   ]
  },
  {
   "cell_type": "code",
   "execution_count": 175,
   "metadata": {
    "collapsed": true
   },
   "outputs": [],
   "source": [
    "def answer_thirteen():\n",
    "        \n",
    "    # Your Code Here\n",
    "    \n",
    "    g_sc = answer_six()\n",
    "    G_un = g_sc.to_undirected() # still multigraph\n",
    "    G_un = nx.Graph(G_un) # no longer multigraph\n",
    "    \n",
    "    return G_un # Your Answer Here"
   ]
  },
  {
   "cell_type": "markdown",
   "metadata": {},
   "source": [
    "### Question 14\n",
    "\n",
    "What is the transitivity and average clustering coefficient of graph G_un?\n",
    "\n",
    "*This function should return a tuple (transitivity, avg clustering).*"
   ]
  },
  {
   "cell_type": "code",
   "execution_count": 178,
   "metadata": {
    "collapsed": true
   },
   "outputs": [],
   "source": [
    "def answer_fourteen():\n",
    "        \n",
    "    # Your Code Here\n",
    "    \n",
    "    g_un = answer_thirteen()\n",
    "    transitivity       = nx.transitivity(g_un)\n",
    "    avg_clustering = nx.average_clustering(g_un)\n",
    "    \n",
    "    return transitivity, avg_clustering # Your Answer Here"
   ]
  },
  {
   "cell_type": "code",
   "execution_count": null,
   "metadata": {
    "collapsed": true
   },
   "outputs": [],
   "source": []
  }
 ],
 "metadata": {
  "coursera": {
   "course_slug": "python-social-network-analysis",
   "graded_item_id": "jMCHR",
   "launcher_item_id": "7RsKp",
   "part_id": "E9gn5"
  },
  "kernelspec": {
   "display_name": "Python 3",
   "language": "python",
   "name": "python3"
  },
  "language_info": {
   "codemirror_mode": {
    "name": "ipython",
    "version": 3
   },
   "file_extension": ".py",
   "mimetype": "text/x-python",
   "name": "python",
   "nbconvert_exporter": "python",
   "pygments_lexer": "ipython3",
   "version": "3.6.2"
  }
 },
 "nbformat": 4,
 "nbformat_minor": 2
}
